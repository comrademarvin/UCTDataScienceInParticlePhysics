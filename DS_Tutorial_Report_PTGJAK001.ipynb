{
 "cells": [
  {
   "cell_type": "markdown",
   "id": "abc8658e",
   "metadata": {},
   "source": [
    "# Data Science in High-energy Physics \n",
    "# Tutorial 1 Report\n",
    "# Author: Stephan Potgieter (PTGJAK001)"
   ]
  },
  {
   "cell_type": "markdown",
   "id": "aecac374",
   "metadata": {},
   "source": [
    "### Aim:\n",
    "\n",
    "The objective of this assignment is to do a statistical analysis of the validity of the theoretical model given by the Standard Model for simulation data from the ATLAS experiment at CERN. The data is specifically for the number of observed events, binned by the mass ranges for a 4 lepton system. The theoretical model consists of the combination of the predicted background signal, as well as the Higgs signal, which peaks around $125GeV$.\n",
    "\n",
    "From assuming that the bins are Gaussian distributed, we will make use of chi-squared statistics to gauge the validity of the model prediction given by the Standard Model - mainly through the calculation of the p-value. We will also investigate how the validity of the model changes when considering uncertainty parameters that scale the relative predicted signals by multiplicative factors - where we will fit these parameters to obtain the minimum chi-squared for the model under consideration. We will observe how the p-value of the model as a hypothesis for the observed data changes under the application of the scaling fit parameters and from this make comments about the validity of the model.\n",
    "\n",
    "Finally, for the model where both of the scaling parameters are fit together to minimize the chi-squared, we will use a Monte Carlo method to determine the critical value for the delta chi-squared associated with a confidence level of $68\\%$. The given predicted value for the critical value is given as $2.3$ for the chosen confidence level - based on the chi-squared distribution for two degrees of freedom for the two fit parameters.\n",
    "\n",
    "The results of the analysis are discussed in the exercises below."
   ]
  },
  {
   "cell_type": "markdown",
   "id": "0c5c4e2e",
   "metadata": {},
   "source": [
    "### Exercise 1:\n",
    "\n",
    "By looking at Figure 1 graphically, it does not seem that the model fits the observed data very well. In the region of $90GeV$, the background signal peak of the model does not fall within the uncertainty ranges of the data points. Similarly in the $125GeV$ region the Higgs signal peak also doesn't fall within the uncertainty range of the signal given by the observed data.\n",
    "\n",
    "Now since a graphical approach is not very quantitative, we can have a look at the chi-squared statistics of the predicted model with the observed data - with the hypothesis that our model fits the data.\n",
    "\n",
    "The obtained chi-squared for the model is $54.327$ - for the degrees of freedom being equal to the number of bins. To interpret this value, we look at the critical value of the chi-squared for a $ 68 \\% $ confidence level and the relevant number of degrees of freedom - for this we obtain $37.295$. Since the chi-squared obtained for the model is greater than the critical value, this shows that the chance of measuring the observed data from the specified model hypothesis does not lie within the chosen $ 68 \\% $ confidence level. \n",
    "\n",
    "To make the quantative argument more clear, we can also look at the p-value for the model hypothesis of the observed data. For this we obtain a p-value of $0.0149$, which tells us that the chance of the data being observed based on our predicted model is only around $1.49\\%$. This agrees with our initial graphical observation that the model does not seem to be an adequate hypothesis for the observed data."
   ]
  },
  {
   "cell_type": "markdown",
   "id": "a2023c46",
   "metadata": {},
   "source": [
    "<figure>\n",
    "<figcaption align = \"center\"><b>Fig.1 - Unfitted theoretical model for Background and Higgs signal</b></figcaption>\n",
    "<img src=\"./bozon_model_data.png\" align = \"left\">\n",
    "</figure>"
   ]
  },
  {
   "cell_type": "markdown",
   "id": "a90f9cf8",
   "metadata": {},
   "source": [
    "### Exercise 2\n",
    "\n",
    "From the previous exercise we have concluded that the theoretical model does not serve as an adequate enough model, with the measured data not falling within the statistical $68\\%$ confidence level of the model. To aim to rectify the model, we assume that the higgs signal given by the model could be incorrect by some multiplicative factor s_s. We run through a range of s_s values and minimize the chi-squared obtained from the new fitted model and the observed data.\n",
    "\n",
    "From this we obtain a best-fit value of $s_s = 2.01\\pm0.76$, for which the minimum chi-squared value is $\\chi^2 = 52.398$. To quantitavily gauge how much this fit has improved the validity of our model as a hypothesis, we again look at the critical value for the chi-squared with confidence level of $68\\%$ and one degree of freedom less than previously, since we have fitted an additional parameter to the model. We see that the critical value for the chi-squared is $36.237$. Since the obtained chi-squared is still greater than than the critical value, the fitted model does still not perform as an adequate model hypothesis for the observed data, for a $68\\%$ confidence level.\n",
    "\n",
    "To extend the argument, we see that the obtained p-value, for the model with fitted s_s parameter for the Higgs signal, is $0.0173$. This shows that there is a $1.73\\%$ chance of the data being observed in the fitted model as hypothesis, which agrees with our statement that the fitted Higgs signal model not being an adequate hypothesis for the observed data."
   ]
  },
  {
   "cell_type": "markdown",
   "id": "45f1e99e",
   "metadata": {},
   "source": [
    "### Exercise 3\n",
    "\n",
    "We follow the same approach as the previous exercise, this time by fitting the multiplicative scaling factor s_b for the background signal given by the theoretical model to minimize the chi-squared.\n",
    "\n",
    "We find a best-fit value of $s_b = 1.302 +/- 0.08$, which yields a minimum chi-squared value of $\\chi^2 = 33.609$. Since we are still only fitting for one parameter, we have the same number of degrees of freedom as the previous exercise and thus a critical chi-squared value of $36.237$ for the $68\\%$ confidence level. As opposed to the previous fit of the Higgs signal, we now see that the fit of the background signal actually yields a more valid model hypothesis, that falls within the $68\\%$ confidence level for the observed data.\n",
    "\n",
    "We also see that for this fit we obtain a p-value of $0.438$, which implies there is a $43.8\\%$ of the data being observed based on the fitted model for the background signal - much better than previously. This shows that using multiplicative factors to scale the signals in order to minimize the chi-squared is a valid approach towards a better model of the observed data."
   ]
  },
  {
   "cell_type": "markdown",
   "id": "290f0528",
   "metadata": {},
   "source": [
    "### Exercise 4\n",
    "\n",
    "From the previous exercise we have seen that it can be a valid approach to perform a best-fit of the scaling parameters to improve the validity of our model. From exercise 1 we saw that not much is improved by scaling the Higgs signal independently, so now we will consider the approach of doing a simultaneous best-fit for both scaling parameters for the higgs and background signal. Intuitively this also makes sense, as these signal will be simultaneously measured by the same detectors, so we can expect their scalings to be to the same degree.\n",
    "\n",
    "In figure 2 we can see the resulting distribution of the delta chi-squared for the fit parameters after minimizing the chi-squared. For the parameter values we obtain $s_s = 1.387$ and $s_b = 1.290$. If we interpret these scaling factors as uncertainties on the measurements, they make more sense than the $s_s = 2.01$ we obtained from exercise 1, as that seems too large of an uncertainty to expect from the calibrated detectors. The parameter scalings are also similar in value, differing by only approximately $0.1$, which agrees with our previous expectation that they will be on the same degree.\n",
    "\n",
    "Now looking at the statistics of the two parameter fit, we see that we obtain a minimum chi-squared of around $\\chi^2 = 33.244$. We can once again interpret this result by looking at the critical value for the chi-squared for a $68\\%$ confidence level, this time for the degrees of freedom of two less than the number of bins, which is $35.179$. Once again we see that the obtained minimum chi-squared for the two parameter fit is less than the critical value, which shows that the fitted model falls within the $68\\%$ confidence level of being a valid hypothesis for the observed data.\n",
    "\n",
    "We can also look at the p-value for the two parameter fit, which we obtain as $0.406$. This implies that there is a $40.6\\%$ chance of the data bing observed under the fitted model as hypothesis. The p-value for the two parameter fit is only slightly smaller than that obtained by fitting only $s_b$, but we have already argued that it can be physically invalid to fit only one parameter. The important thing to note is that it is a significant improvement on the p-value of $0.0149$ for the initial unfitted model, which indicates that including the scaling factors as uncertainties on the signals aids a lot in making our model a statistically valid hypothesis for the observed data."
   ]
  },
  {
   "cell_type": "markdown",
   "id": "4c93d20f",
   "metadata": {},
   "source": [
    "<figure>\n",
    "<figcaption align = \"center\"><b>Fig.2 - Delta Chi-squared distribution for the two parameter fit</b></figcaption>\n",
    "<img src=\"./parameters_fit.png\" align = \"left\">\n",
    "</figure>"
   ]
  },
  {
   "cell_type": "markdown",
   "id": "07eef520",
   "metadata": {},
   "source": [
    "We can now also graphically have a look again at how the fitted two parameter model compares to the data in figure 3. Unlike the unfitted model, the peak signals of the background at around $90GeV$ and the Higgs signal at $125GeV$ now lie well within the uncertainty bands of the observed data. This agrees well with our statement that the two parameter fit of multiplicative uncertainties has stongly improved the validity of our model as a hypothesis for the observed data."
   ]
  },
  {
   "cell_type": "markdown",
   "id": "ddc24206",
   "metadata": {},
   "source": [
    "<figure>\n",
    "<figcaption align = \"center\"><b>Fig.3 - Fitted theoretical model for Background and Higgs signal</b></figcaption>\n",
    "<img src=\"./bozon_model_data_fitted.png\" align = \"left\">\n",
    "</figure>"
   ]
  },
  {
   "cell_type": "markdown",
   "id": "e51e02e1",
   "metadata": {},
   "source": [
    "### Exercise 5\n",
    "\n",
    "Discussed collectively in the previous exercises, as I decided to include the p-value in my discussion from the beginning."
   ]
  },
  {
   "cell_type": "markdown",
   "id": "b09af833",
   "metadata": {},
   "source": [
    "### Exercise 6\n",
    "\n",
    "In figure 3 we see a boundary indicated at round delta chi-squared of $2.3$, as the critical value for a confidence level of $68\\%$. This value is obtained from the chi-squared distribution for two degrees of freedom - since there are two fit parameters that vary independantly.\n",
    "\n",
    "We will now try and validate this critical value by making use of a Monte Carlo method. Specifically, we will generate toys from the two parameter fitted model and then fit the original unfitted model to the toy in order to minimize the chi-squared for the model as a hypothesis for the toy. From this we can then determine whether the toy is valid and should be accepted by checking if the original best-fit parameters fall within the toy's delta chi-squared critical value range. The final confidence level can then be obtained by looking at the percentage of the total toys that were accepted.\n",
    "\n",
    "To implement the algorithm, a \"zooming-in\" grid method was used to obtain the best-fit parameters of the toy, in order to obtain as accurate a value with as little total itterations as possible. The region of critical values that was run for was also finally chosen from seeing roughly where the result of $68\\%$ would be obtained from previous runs. Multiple trials were used to obtain an average and standard uncertainty for the confidence level at each critical value, in order to do a weighted best-fit - after it was seen that there is a strong linear relationship between the confidence level and critical value from the algorithm.\n",
    "\n",
    "The results obtained for 10 trials and 500 toys per trial is shown in figure 4."
   ]
  },
  {
   "cell_type": "markdown",
   "id": "deffdc0a",
   "metadata": {},
   "source": [
    "<figure>\n",
    "<figcaption align = \"center\"><b>Fig.4 - Confidence levels for critical values from MC algorithm</b></figcaption>\n",
    "<img src=\"./trials_fit_3.png\" align = \"left\">\n",
    "</figure>"
   ]
  },
  {
   "cell_type": "markdown",
   "id": "a1a8ba31",
   "metadata": {},
   "source": [
    "From the linear best-fit we obtain the critical value for the $68\\%$ confidence level to be $3.21\\pm0.03$. This does not agree with the anticipated value of $2.3$, as it does not lie within the uncertainty range of the obtained value from the algorithm. The only reason I can think of that would contribute to this deviation would come from our main assumption that the bins are gaussian distributed. Looking back at figure 3, we see that for some of the bins there are very few events and some of them also don't all within the uncertainty range of the observed data at these small sginals. This could in some way maybe lead to a deviation from being Gaussian and cause the critical value to differ slightly from the one predicted by the chi-squared distribution - which is based on the statistics of Gaussian distributions."
   ]
  },
  {
   "cell_type": "markdown",
   "id": "99b95636",
   "metadata": {},
   "source": [
    "### Conclusion\n",
    "\n",
    "In the first 5 exercises we employed chi-squared statistics to investigate the validity of the theoretical model as a hypothesis for the observed data - based on the main assumption that the bins are Gaussian distributed. With the p-value as reference, we showed that the initial model was not a good valid hypothesis for the observed data. By applying multiplicative scaling parameters to the model signals, which we argued could be interpreted as uncertainties on the measurements, we then significantly improved the validity of the model by applying a best-fit on the parameters to minimize the chi-squared - obtaining a final p-value of $0.406$ for the model as a hypothesis.\n",
    "\n",
    "Even though the implemented statistical approach makes sense and seems to be effective, I am a bit sceptical of being too faithful in applying statistical optimization as an experimental method to force the model to be valid for the observed data. Where lies the line between accepting that the model might not be correct or missing something and adjusting certain parameters to fit to what you want the model to describe? In our context it does make sense that the signals only need to be scaled by a similar reasonable amount as an uncertainty, but this also needs to be connected to the true expected uncertainties from the engineering of the detectors as measurement devices - which is included in the uncertainties of the observed data. So where does this \"uncertainty\" in the theoretical model that we need to compensate truly originate from?"
   ]
  }
 ],
 "metadata": {
  "kernelspec": {
   "display_name": "Python 3 (ipykernel)",
   "language": "python",
   "name": "python3"
  },
  "language_info": {
   "codemirror_mode": {
    "name": "ipython",
    "version": 3
   },
   "file_extension": ".py",
   "mimetype": "text/x-python",
   "name": "python",
   "nbconvert_exporter": "python",
   "pygments_lexer": "ipython3",
   "version": "3.10.4"
  }
 },
 "nbformat": 4,
 "nbformat_minor": 5
}
