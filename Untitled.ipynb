{
 "cells": [
  {
   "cell_type": "markdown",
   "id": "abc8658e",
   "metadata": {},
   "source": [
    "# Data Science in High-energy Physics Tutorial 1 Report\n",
    "# Author: Stephan Potgieter (PTGJAK001)"
   ]
  },
  {
   "cell_type": "markdown",
   "id": "aecac374",
   "metadata": {},
   "source": [
    "### Aim:\n",
    "\n",
    "The objective of this assignment is to do a statistical analysis of the validity of the theoretical model given by the Standard Model for simulation data from the ATLAS experiment at CERN. The data is specifically for the number of observed events, binned by the mass ranges for a 4 lepton system. The theoretical model consists of the combination of the predicted background signal, as well as the Higgs signal, which peaks around $125GeV$.\n",
    "\n",
    "From assuming that the bins are Gaussian distributed, we will make use of chi-squared statistics to gauge the validity of model prediction given by the Standard Model - aminly throught the calculation of the p-value. We will also investigate how the validity of the model changes when considering parameters that scale the relative prediction signals by multiplicative factors - where we will fit these parameters to obtain the minimum chi-squared for the model under consideration.\n",
    "\n",
    "Finally, for the model where both of the scaling parameters are fit together to minimize the chi-squared, we will use a Monte Carlo method to determine the critical value for the delta chi-squared associated with a confidence level of $65\\%$. The given predicted value for the critical value is given as $2.3$ for the chosen confidence level."
   ]
  },
  {
   "attachments": {},
   "cell_type": "markdown",
   "id": "0c5c4e2e",
   "metadata": {},
   "source": [
    "### Exercise 1:\n",
    "\n",
    "By looking at Figure 1 graphically, it does not seem that the model fits the observed data very well. In the region of $90GeV$, the background signal peak of the model does not fall within the uncertainty ranges of the data points. Similarly in the $125GeV$ region the Higgs signal peak also doesn't fall within the uncertainty range of the signal given by the observed data.\n",
    "\n",
    "Now since a graphical approach is not very quantitative, we can have a look at the chi-squared statistics of the predicted model with the observed data - with the hypothesis that our model fits the data.\n",
    "\n",
    "The obtained chi-squared for the model is $54.327$ - for the degrees of freedom being equal to the number of bins. To interpret this value, we look at the critical value of the chi-squared for a $ 68 \\% $ confidence level and the relevant number of degrees of freedom - for this we obtain $37.295$. Since the chi-squared obtained for the model is greater than the critical value, this shows that the chance of measuring the observed data from the specified model hypothesis does not lie within the specified $ 68 \\% $ confidence level. \n",
    "\n",
    "To make the quantative argument more clear, we can also look at the p-value for the model hypothesis of the observed data. For this we obtain a p-value of $0.0149$, which tells us that the chance of the data being observed based on our predicted model is only around $1.49\\%$. This agrees with our initial graphical observation that the model does not seem to be an adequate hypothesis for the observed data."
   ]
  },
  {
   "cell_type": "markdown",
   "id": "a2023c46",
   "metadata": {},
   "source": [
    "<figure>\n",
    "<figcaption align = \"center\"><b>Fig.1 - Unfitted theoretical model for Background and Higgs signal</b></figcaption>\n",
    "<img src=\"./bozon_model_data.png\" align = \"left\">\n",
    "</figure>"
   ]
  },
  {
   "attachments": {},
   "cell_type": "markdown",
   "id": "a90f9cf8",
   "metadata": {},
   "source": [
    "### Exercise 2\n",
    "\n",
    "From the previous exercise we have concluded that the theoretical model does not serve as an adequate enough model, with the measured data not falling within the statistical $68\\%$ confidence level of the model. To aim to rectify the model, we assume that the higgs signal given by the model could be incorrect by some multiplicative factor s_s. We run through a range of s_s values and minimize the chi-squared obtained from the new fitted model and the observed data.\n",
    "\n",
    "From this we obtain a best-fit value of $2.01\\pm0.76$, for which the minimum chi-squared value is $52.398$. To quantitavily gauge how much this fit has improved the validity of our model as a hypothesis, we again look at the critical value for the chi-squared with confidence level of $68\\%$ and one degree of freedom less than previously, since we have fitted an additional parameter to the model. We see that the critical value for the chi-squared is $36.237$. Since the obtained chi-squared is still greater than than the critical value, the fitted model does still not perform as an adequate model hypothesis for the observed data, for a $68\\%$ confidence level.\n",
    "\n",
    "To extend the argument, we see that the obtained p-value, for the model with fitted s_s parameter for the Higgs signal, is $0.0173$. This shows that there is a $1.73\\%$ chance of the data being observed in the fitted model as hypothesis, which agrees with our statement that the fitted Higgs signal model not being an adequate hypothesis for the observed data."
   ]
  },
  {
   "attachments": {},
   "cell_type": "markdown",
   "id": "45f1e99e",
   "metadata": {},
   "source": [
    "### Exercise 3\n",
    "\n",
    "Followig the same approach as the previous exercise, this time by fitting the multiplicative scaling factor s_b for the background signal given by the theoretical model to minimize the chi-squared.\n",
    "\n"
   ]
  },
  {
   "attachments": {},
   "cell_type": "markdown",
   "id": "290f0528",
   "metadata": {},
   "source": [
    "### Exercise 4\n"
   ]
  },
  {
   "cell_type": "markdown",
   "id": "e51e02e1",
   "metadata": {},
   "source": [
    "### Exercise 5"
   ]
  },
  {
   "cell_type": "markdown",
   "id": "b09af833",
   "metadata": {},
   "source": [
    "### Exercise 6"
   ]
  },
  {
   "cell_type": "code",
   "execution_count": null,
   "id": "08147ee8",
   "metadata": {},
   "outputs": [],
   "source": []
  }
 ],
 "metadata": {
  "kernelspec": {
   "display_name": "Python 3 (ipykernel)",
   "language": "python",
   "name": "python3"
  },
  "language_info": {
   "codemirror_mode": {
    "name": "ipython",
    "version": 3
   },
   "file_extension": ".py",
   "mimetype": "text/x-python",
   "name": "python",
   "nbconvert_exporter": "python",
   "pygments_lexer": "ipython3",
   "version": "3.10.4"
  }
 },
 "nbformat": 4,
 "nbformat_minor": 5
}
